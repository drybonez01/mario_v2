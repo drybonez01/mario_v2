{
 "cells": [
  {
   "cell_type": "markdown",
   "metadata": {},
   "source": [
    "# Dependencies da scaricare"
   ]
  },
  {
   "cell_type": "code",
   "execution_count": null,
   "metadata": {},
   "outputs": [],
   "source": [
    "# An OpenAI Gym environment for Super Mario Bros. & Super Mario Bros. 2\n",
    "%pip install gym-super-mario-bros==7.3.0 nes_py"
   ]
  },
  {
   "cell_type": "code",
   "execution_count": null,
   "metadata": {},
   "outputs": [],
   "source": [
    "# CUDA VERSION - An open source machine learning framework that accelerates the path from research prototyping to production deployment\n",
    "%pip install torch==1.10.1+cu113 torchvision==0.11.2+cu113 torchaudio===0.10.1+cu113 -f https://download.pytorch.org/whl/cu113/torch_stable.html"
   ]
  },
  {
   "cell_type": "code",
   "execution_count": null,
   "metadata": {},
   "outputs": [],
   "source": [
    "# CPU VERSION - An open source machine learning framework that accelerates the path from research prototyping to production deployment\n",
    "%pip3 install torch==1.10.2+cpu torchvision==0.11.3+cpu torchaudio==0.10.2+cpu -f https://download.pytorch.org/whl/cpu/torch_stable.html"
   ]
  },
  {
   "cell_type": "code",
   "execution_count": null,
   "metadata": {},
   "outputs": [],
   "source": [
    "# Reinforcement Learning library\n",
    "%pip install stable-baselines3\n",
    "%pip install atari-py"
   ]
  },
  {
   "cell_type": "markdown",
   "metadata": {},
   "source": [
    "# Import dei moduli"
   ]
  },
  {
   "cell_type": "code",
   "execution_count": null,
   "metadata": {},
   "outputs": [],
   "source": [
    "# Import del gioco\n",
    "import gym_super_mario_bros\n",
    "# Import dell'interfaccia del controller\n",
    "from nes_py.wrappers import JoypadSpace\n",
    "# Import di una versione semplificata dei controlli\n",
    "from gym_super_mario_bros.actions import SIMPLE_MOVEMENT\n",
    "# Importa l'interfaccia per l'analisi dell'immagine e della scala di grigi\n",
    "from gym.wrappers import FrameStack, GrayScaleObservation\n",
    "# Importa l'interfaccia per la vettorizzazione\n",
    "from stable_baselines3.common.vec_env import VecFrameStack, DummyVecEnv\n",
    "# Importa la libreria per la visualizzazione dell'impatto del frame stacking\n",
    "from matplotlib import pyplot as plt\n",
    "# Import di OS per la gestione dei file\n",
    "import os\n",
    "# Import dell'algoritmo PPO\n",
    "from stable_baselines3 import PPO\n",
    "# Import di Base Callbacks per il salvataggio di modelli\n",
    "from stable_baselines3.common.callbacks import BaseCallback"
   ]
  },
  {
   "cell_type": "markdown",
   "metadata": {},
   "source": [
    "# Preparazione dell'ambiente"
   ]
  },
  {
   "cell_type": "code",
   "execution_count": null,
   "metadata": {},
   "outputs": [],
   "source": [
    "# Configurazione del gioco\n",
    "env = gym_super_mario_bros.make('SuperMarioBros-v0') # Definisce l'ambiente di gioco\n",
    "env = JoypadSpace(env, SIMPLE_MOVEMENT) # Limita le azioni effettuabili a quelle necessarie per procedere nel gioco\n",
    "env = GrayScaleObservation(env, keep_dim=True) # Osserva la scala di grigi\n",
    "env = DummyVecEnv([lambda: env]) # Posiziona l'agente in un ambiente di prova\n",
    "env = VecFrameStack(env, 4, channels_order='last') # Determina quanti frame inserire nello stack e come"
   ]
  },
  {
   "cell_type": "markdown",
   "metadata": {},
   "source": [
    "# Esecuzione del gioco e caricamento del model"
   ]
  },
  {
   "cell_type": "code",
   "execution_count": null,
   "metadata": {},
   "outputs": [],
   "source": [
    "# Carica il modello\n",
    "model = PPO.load('./train/best_model_100000') # Specificare il nome del file da caricare\n",
    "\n",
    "# Avvia il gioco\n",
    "state = env.reset()\n",
    "while True: \n",
    "    action, _ = model.predict(state)\n",
    "    state, reward, done, info = env.step(action)\n",
    "    env.render()"
   ]
  },
  {
   "cell_type": "code",
   "execution_count": 6,
   "metadata": {},
   "outputs": [],
   "source": [
    "# Termina il gioco\n",
    "env.close()"
   ]
  },
  {
   "cell_type": "markdown",
   "metadata": {},
   "source": [
    "# Apprendimento"
   ]
  },
  {
   "cell_type": "code",
   "execution_count": null,
   "metadata": {},
   "outputs": [],
   "source": [
    "# Definizione della procedura per la creazione del model\n",
    "class TrainAndLoggingCallback(BaseCallback):\n",
    "    def __init__(self, check_freq, save_path, verbose=1):\n",
    "        super(TrainAndLoggingCallback, self).__init__(verbose)\n",
    "        self.check_freq = check_freq\n",
    "        self.save_path = save_path\n",
    "\n",
    "    def _init_callback(self):\n",
    "        if self.save_path is not None:\n",
    "            os.makedirs(self.save_path, exist_ok=True)\n",
    "\n",
    "    def _on_step(self):\n",
    "        if self.n_calls % self.check_freq == 0:\n",
    "            model_path = os.path.join(self.save_path, 'best_model_{}'.format(self.n_calls))\n",
    "            self.model.save(model_path)\n",
    "\n",
    "        return True\n",
    "\n",
    "# Directory per il salvataggio dei dati\n",
    "CHECKPOINT_DIR = './train/'\n",
    "LOG_DIR = './logs/'\n",
    "\n",
    "# Procedura di callback\n",
    "callback = TrainAndLoggingCallback(check_freq=10000, save_path=CHECKPOINT_DIR)\n",
    "\n",
    "# Definizione dei parametri del modello di apprendimento\n",
    "model = PPO('CnnPolicy', env, verbose=1, tensorboard_log=LOG_DIR, learning_rate=0.000001, n_steps=512)"
   ]
  },
  {
   "cell_type": "code",
   "execution_count": null,
   "metadata": {},
   "outputs": [],
   "source": [
    "# Allena il modello\n",
    "model.learn(total_timesteps=1000, callback=callback) # Il parametro total_timestamps indica il numero di step totali dell'apprendimento"
   ]
  }
 ],
 "metadata": {
  "interpreter": {
   "hash": "f9f85f796d01129d0dd105a088854619f454435301f6ffec2fea96ecbd9be4ac"
  },
  "kernelspec": {
   "display_name": "Python 3.9.5 64-bit",
   "language": "python",
   "name": "python3"
  },
  "language_info": {
   "codemirror_mode": {
    "name": "ipython",
    "version": 3
   },
   "file_extension": ".py",
   "mimetype": "text/x-python",
   "name": "python",
   "nbconvert_exporter": "python",
   "pygments_lexer": "ipython3",
   "version": "3.8.10"
  },
  "orig_nbformat": 4
 },
 "nbformat": 4,
 "nbformat_minor": 2
}
